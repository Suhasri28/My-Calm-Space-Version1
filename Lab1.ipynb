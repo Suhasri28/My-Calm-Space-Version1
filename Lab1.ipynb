{
  "nbformat": 4,
  "nbformat_minor": 0,
  "metadata": {
    "colab": {
      "provenance": [],
      "authorship_tag": "ABX9TyOFfnq4zTzZ2slOYvVCKiy+",
      "include_colab_link": true
    },
    "kernelspec": {
      "name": "python3",
      "display_name": "Python 3"
    },
    "language_info": {
      "name": "python"
    }
  },
  "cells": [
    {
      "cell_type": "markdown",
      "metadata": {
        "id": "view-in-github",
        "colab_type": "text"
      },
      "source": [
        "<a href=\"https://colab.research.google.com/github/Suhasri28/My-Calm-Space-Version1/blob/main/Lab1.ipynb\" target=\"_parent\"><img src=\"https://colab.research.google.com/assets/colab-badge.svg\" alt=\"Open In Colab\"/></a>"
      ]
    },
    {
      "cell_type": "code",
      "execution_count": null,
      "metadata": {
        "colab": {
          "base_uri": "https://localhost:8080/"
        },
        "id": "hdQOpvjmyXFJ",
        "outputId": "2adb3043-9b95-45ce-e673-ec618d37c86c"
      },
      "outputs": [
        {
          "output_type": "stream",
          "name": "stdout",
          "text": [
            "Welcome to the House Price Prediction System!\n",
            "Enter the square footage of the house: 2500\n",
            "Enter the number of bedrooms in the house: 3\n",
            "Enter the age of the house (in years): 10\n",
            "\n",
            "The predicted price for a house with 2500.0 sqft, 3 bedrooms, and 10 years old is: $531,682.44\n"
          ]
        },
        {
          "output_type": "stream",
          "name": "stderr",
          "text": [
            "/usr/local/lib/python3.11/dist-packages/sklearn/utils/validation.py:2739: UserWarning: X does not have valid feature names, but LinearRegression was fitted with feature names\n",
            "  warnings.warn(\n"
          ]
        }
      ],
      "source": [
        "import numpy as np\n",
        "import pandas as pd\n",
        "from sklearn.linear_model import LinearRegression\n",
        "\n",
        "# Step 1: Generate synthetic data (for training the model)\n",
        "np.random.seed(42)  # For reproducibility\n",
        "\n",
        "# Generate sample data\n",
        "n_samples = 200  # Number of data points\n",
        "square_footage = np.random.randint(1000, 3500, size=n_samples)  # Random square footage between 1000 and 3500 sqft\n",
        "num_bedrooms = np.random.randint(2, 6, size=n_samples)  # Random number of bedrooms between 2 and 5\n",
        "age_of_house = np.random.randint(1, 100, size=n_samples)  # Random age between 1 and 100 years\n",
        "\n",
        "# Price (dependent variable) - Assume a simple linear relationship with noise\n",
        "price = (square_footage * 200) + (num_bedrooms * 5000) - (age_of_house * 100) + np.random.randint(5000, 30000, size=n_samples)\n",
        "\n",
        "# Create a DataFrame\n",
        "data = pd.DataFrame({\n",
        "    'SquareFootage': square_footage,\n",
        "    'NumBedrooms': num_bedrooms,\n",
        "    'AgeOfHouse': age_of_house,\n",
        "    'Price': price\n",
        "})\n",
        "\n",
        "# Step 2: Prepare the data for training the model\n",
        "X = data[['SquareFootage', 'NumBedrooms', 'AgeOfHouse']]  # Features\n",
        "y = data['Price']  # Target variable\n",
        "\n",
        "# Step 3: Train the Linear Regression model\n",
        "model = LinearRegression()\n",
        "model.fit(X, y)\n",
        "\n",
        "# Step 4: Get user input for prediction\n",
        "print(\"Welcome to the House Price Prediction System!\")\n",
        "\n",
        "# Collect user inputs\n",
        "square_footage_input = float(input(\"Enter the square footage of the house: \"))\n",
        "num_bedrooms_input = int(input(\"Enter the number of bedrooms in the house: \"))\n",
        "age_of_house_input = int(input(\"Enter the age of the house (in years): \"))\n",
        "\n",
        "# Prepare the input data for prediction\n",
        "user_input = np.array([[square_footage_input, num_bedrooms_input, age_of_house_input]])\n",
        "\n",
        "# Step 5: Predict the house price based on user inputs\n",
        "predicted_price = model.predict(user_input)\n",
        "\n",
        "# Step 6: Display the predicted price\n",
        "print(f\"\\nThe predicted price for a house with {square_footage_input} sqft, {num_bedrooms_input} bedrooms, and {age_of_house_input} years old is: ${predicted_price[0]:,.2f}\")\n",
        "\n"
      ]
    },
    {
      "cell_type": "code",
      "source": [
        "import numpy as np\n",
        "import pandas as pd\n",
        "from sklearn.linear_model import LinearRegression\n",
        "\n",
        "# Step 1: Generate synthetic data (adjusted for Indian house prices)\n",
        "np.random.seed(42)  # For reproducibility\n",
        "\n",
        "# Generate sample data\n",
        "n_samples = 200  # Number of data points\n",
        "square_footage = np.random.randint(500, 3000, size=n_samples)  # Random square footage between 500 and 3000 sqft\n",
        "num_bedrooms = np.random.randint(1, 6, size=n_samples)  # Random number of bedrooms between 1 and 5\n",
        "age_of_house = np.random.randint(1, 50, size=n_samples)  # Random age between 1 and 50 years\n",
        "\n",
        "# Indian house price model (assuming some basic price factors):\n",
        "# We assume the price in INR is roughly:\n",
        "# - Rs. 5000 per sqft\n",
        "# - Rs. 2 lakh per bedroom\n",
        "# - Rs. 1000 per year of house age\n",
        "\n",
        "# Price formula: Price = (SquareFootage * Rs. 5000) + (NumBedrooms * Rs. 2,00,000) - (AgeOfHouse * Rs. 1000)\n",
        "price = (square_footage * 5000) + (num_bedrooms * 200000) - (age_of_house * 1000) + np.random.randint(1000000, 10000000, size=n_samples)\n",
        "\n",
        "# Create a DataFrame\n",
        "data = pd.DataFrame({\n",
        "    'SquareFootage': square_footage,\n",
        "    'NumBedrooms': num_bedrooms,\n",
        "    'AgeOfHouse': age_of_house,\n",
        "    'Price': price\n",
        "})\n",
        "\n",
        "# Step 2: Prepare the data for training the model\n",
        "X = data[['SquareFootage', 'NumBedrooms', 'AgeOfHouse']]  # Features\n",
        "y = data['Price']  # Target variable\n",
        "\n",
        "# Step 3: Train the Linear Regression model\n",
        "model = LinearRegression()\n",
        "model.fit(X, y)\n",
        "\n",
        "# Step 4: Get user input for prediction\n",
        "print(\"Welcome to the Indian House Price Prediction System!\")\n",
        "\n",
        "# Collect user inputs\n",
        "square_footage_input = float(input(\"Enter the square footage of the house: \"))\n",
        "num_bedrooms_input = int(input(\"Enter the number of bedrooms in the house: \"))\n",
        "age_of_house_input = int(input(\"Enter the age of the house (in years): \"))\n",
        "\n",
        "# Prepare the input data for prediction\n",
        "user_input = np.array([[square_footage_input, num_bedrooms_input, age_of_house_input]])\n",
        "\n",
        "# Step 5: Predict the house price based on user inputs\n",
        "predicted_price = model.predict(user_input)\n",
        "\n",
        "# Step 6: Display the predicted price\n",
        "print(f\"\\nThe predicted price for a house with {square_footage_input} sqft, {num_bedrooms_input} bedrooms, and {age_of_house_input} years old is: ₹{predicted_price[0]:,.2f}\")\n"
      ],
      "metadata": {
        "colab": {
          "base_uri": "https://localhost:8080/"
        },
        "id": "Obi3ex8j5HLq",
        "outputId": "82e33e67-a971-41f3-b4ef-ac1979d052e1"
      },
      "execution_count": null,
      "outputs": [
        {
          "output_type": "stream",
          "name": "stdout",
          "text": [
            "Welcome to the Indian House Price Prediction System!\n",
            "Enter the square footage of the house: 840\n",
            "Enter the number of bedrooms in the house: 2\n",
            "Enter the age of the house (in years): 18\n",
            "\n",
            "The predicted price for a house with 840.0 sqft, 2 bedrooms, and 18 years old is: ₹9,744,388.26\n"
          ]
        },
        {
          "output_type": "stream",
          "name": "stderr",
          "text": [
            "/usr/local/lib/python3.11/dist-packages/sklearn/utils/validation.py:2739: UserWarning: X does not have valid feature names, but LinearRegression was fitted with feature names\n",
            "  warnings.warn(\n"
          ]
        }
      ]
    },
    {
      "cell_type": "code",
      "source": [
        "import numpy as np\n",
        "import pandas as pd\n",
        "from sklearn.linear_model import LinearRegression\n",
        "\n",
        "# Step 1: Generate synthetic data (adjusted for Indian house prices)\n",
        "np.random.seed(42)  # For reproducibility\n",
        "\n",
        "# Generate sample data\n",
        "n_samples = 200  # Number of data points\n",
        "square_footage = np.random.randint(500, 3000, size=n_samples)  # Random square footage between 500 and 3000 sqft\n",
        "num_bedrooms = np.random.randint(1, 6, size=n_samples)  # Random number of bedrooms between 1 and 5\n",
        "age_of_house = np.random.randint(1, 50, size=n_samples)  # Random age between 1 and 50 years\n",
        "\n",
        "# Indian house price model (assuming some basic price factors):\n",
        "# We assume the price in INR is roughly:\n",
        "# - Rs. 5000 per sqft\n",
        "# - Rs. 2 lakh per bedroom\n",
        "# - Rs. 1000 per year of house age\n",
        "\n",
        "# Price formula: Price = (SquareFootage * Rs. 5000) + (NumBedrooms * Rs. 2,00,000) - (AgeOfHouse * Rs. 1000)\n",
        "price = (square_footage * 5000) + (num_bedrooms * 200000) - (age_of_house * 1000) + np.random.randint(1000000, 10000000, size=n_samples)\n",
        "\n",
        "# Create a DataFrame\n",
        "data = pd.DataFrame({\n",
        "    'SquareFootage': square_footage,\n",
        "    'NumBedrooms': num_bedrooms,\n",
        "    'AgeOfHouse': age_of_house,\n",
        "    'Price': price\n",
        "})\n",
        "\n",
        "# Step 2: Prepare the data for training the model\n",
        "X = data[['SquareFootage', 'NumBedrooms', 'AgeOfHouse']]  # Features\n",
        "y = data['Price']  # Target variable\n",
        "\n",
        "# Step 3: Train the Linear Regression model\n",
        "model = LinearRegression()\n",
        "model.fit(X, y)\n",
        "\n",
        "# Step 4: Get user input for prediction\n",
        "print(\"Welcome to the Indian House Price Prediction System!\")\n",
        "\n",
        "# Collect user inputs\n",
        "square_footage_input = float(input(\"Enter the square footage of the house: \"))\n",
        "num_bedrooms_input = int(input(\"Enter the number of bedrooms in the house: \"))\n",
        "age_of_house_input = int(input(\"Enter the age of the house (in years): \"))\n",
        "\n",
        "# Step 5: Prepare the input data for prediction\n",
        "# Create a DataFrame with the same column names as the training data\n",
        "user_input = pd.DataFrame([[square_footage_input, num_bedrooms_input, age_of_house_input]],\n",
        "                          columns=['SquareFootage', 'NumBedrooms', 'AgeOfHouse'])\n",
        "\n",
        "# Step 6: Predict the house price based on user inputs\n",
        "predicted_price = model.predict(user_input)\n",
        "\n",
        "# Step 7: Display the predicted price\n",
        "print(f\"\\nThe predicted price for a house with {square_footage_input} sqft, {num_bedrooms_input} bedrooms, and {age_of_house_input} years old is: ₹{predicted_price[0]:,.2f}\")\n"
      ],
      "metadata": {
        "colab": {
          "base_uri": "https://localhost:8080/"
        },
        "id": "aHMwwb3k5hDw",
        "outputId": "1749fecd-176c-4c2b-b3e1-b735b1d36149"
      },
      "execution_count": null,
      "outputs": [
        {
          "output_type": "stream",
          "name": "stdout",
          "text": [
            "Welcome to the Indian House Price Prediction System!\n",
            "Enter the square footage of the house: 840\n",
            "Enter the number of bedrooms in the house: 2\n",
            "Enter the age of the house (in years): 18\n",
            "\n",
            "The predicted price for a house with 840.0 sqft, 2 bedrooms, and 18 years old is: ₹9,744,388.26\n"
          ]
        }
      ]
    },
    {
      "cell_type": "code",
      "source": [
        "import numpy as np\n",
        "import pandas as pd\n",
        "from sklearn.linear_model import LinearRegression\n",
        "from sklearn.model_selection import train_test_split\n",
        "from sklearn.preprocessing import OneHotEncoder\n",
        "from sklearn.compose import ColumnTransformer\n",
        "from sklearn.pipeline import Pipeline"
      ],
      "metadata": {
        "id": "DtNO_2vF5zBg"
      },
      "execution_count": null,
      "outputs": []
    },
    {
      "cell_type": "code",
      "source": [
        "np.random.seed(42)"
      ],
      "metadata": {
        "id": "PiT58LS251xQ"
      },
      "execution_count": null,
      "outputs": []
    },
    {
      "cell_type": "code",
      "source": [
        "n_samples = 200  # Number of data points\n",
        "square_footage = np.random.randint(500, 3000, size=n_samples)  # Random square footage between 500 and 3000 sqft\n",
        "num_bedrooms = np.random.randint(1, 6, size=n_samples)  # Random number of bedrooms between 1 and 5\n",
        "age_of_house = np.random.randint(1, 50, size=n_samples)  # Random age between 1 and 50 years\n",
        "location = np.random.choice(['Delhi', 'Mumbai', 'Bangalore', 'Chennai', 'Hyderabad'], size=n_samples)  # Random location\n",
        "house_type = np.random.choice(['Apartment', 'Independent House'], size=n_samples)  # House type\n",
        "floor_number = np.random.randint(1, 10, size=n_samples)  # Random floor number for apartments\n",
        "amenities = np.random.choice(['Parking', 'Swimming Pool', 'Garden', 'None'], size=n_samples)  # Random amenities\n",
        "furnishing = np.random.choice(['Unfurnished', 'Semi-Furnished', 'Fully Furnished'], size=n_samples)  # Furnishing status\n",
        "area_type = np.random.choice(['Urban', 'Rural'], size=n_samples)"
      ],
      "metadata": {
        "id": "S9cKFCxM55bQ"
      },
      "execution_count": null,
      "outputs": []
    },
    {
      "cell_type": "code",
      "source": [
        "import numpy as np\n",
        "import pandas as pd\n",
        "from sklearn.linear_model import LinearRegression\n",
        "from sklearn.model_selection import train_test_split\n",
        "from sklearn.preprocessing import OneHotEncoder\n",
        "from sklearn.compose import ColumnTransformer\n",
        "from sklearn.pipeline import Pipeline\n",
        "\n",
        "# Step 1: Generate synthetic data with more attributes (adjusted for Indian house prices)\n",
        "np.random.seed(42)  # For reproducibility\n",
        "\n",
        "# Generate sample data\n",
        "n_samples = 200  # Number of data points\n",
        "square_footage = np.random.randint(500, 3000, size=n_samples)  # Random square footage between 500 and 3000 sqft\n",
        "num_bedrooms = np.random.randint(1, 6, size=n_samples)  # Random number of bedrooms between 1 and 5\n",
        "age_of_house = np.random.randint(1, 50, size=n_samples)  # Random age between 1 and 50 years\n",
        "location = np.random.choice(['Delhi', 'Mumbai', 'Bangalore', 'Chennai', 'Hyderabad'], size=n_samples)  # Random location\n",
        "house_type = np.random.choice(['Apartment', 'Independent House'], size=n_samples)  # House type\n",
        "floor_number = np.random.randint(1, 10, size=n_samples)  # Random floor number for apartments\n",
        "amenities = np.random.choice(['Parking', 'Swimming Pool', 'Garden', 'None'], size=n_samples)  # Random amenities\n",
        "furnishing = np.random.choice(['Unfurnished', 'Semi-Furnished', 'Fully Furnished'], size=n_samples)  # Furnishing status\n",
        "area_type = np.random.choice(['Urban', 'Rural'], size=n_samples)  # Urban or rural location\n",
        "\n",
        "# Price formula (adjusted for more complexity):\n",
        "# - Rs. 5000 per sqft\n",
        "# - Rs. 2 lakh per bedroom\n",
        "# - Rs. 1000 per year of house age\n",
        "# - Rs. 500,000 for parking, Rs. 300,000 for swimming pool, Rs. 200,000 for garden\n",
        "# - Rs. 10 lakh for independent houses, Rs. 5 lakh for apartments\n",
        "price = (square_footage * 5000) + (num_bedrooms * 200000) - (age_of_house * 1000) + \\\n",
        "        (floor_number * 10000) + np.random.randint(1000000, 10000000, size=n_samples)\n",
        "\n",
        "# Create a DataFrame with more attributes\n",
        "data = pd.DataFrame({\n",
        "    'SquareFootage': square_footage,\n",
        "    'NumBedrooms': num_bedrooms,\n",
        "    'AgeOfHouse': age_of_house,\n",
        "    'Location': location,\n",
        "    'HouseType': house_type,\n",
        "    'FloorNumber': floor_number,\n",
        "    'Amenities': amenities,\n",
        "    'Furnishing': furnishing,\n",
        "    'AreaType': area_type,\n",
        "    'Price': price\n",
        "})\n",
        "\n",
        "# Step 2: Prepare the data for training the model (handling categorical variables)\n",
        "X = data.drop('Price', axis=1)  # Features\n",
        "y = data['Price']  # Target variable\n",
        "\n",
        "# Define the column transformer for preprocessing\n",
        "preprocessor = ColumnTransformer(\n",
        "    transformers=[\n",
        "        ('num', 'passthrough', ['SquareFootage', 'NumBedrooms', 'AgeOfHouse', 'FloorNumber']),  # Keep numeric columns as is\n",
        "        ('cat', OneHotEncoder(), ['Location', 'HouseType', 'Amenities', 'Furnishing', 'AreaType'])  # One-hot encode categorical columns\n",
        "    ])\n",
        "\n",
        "# Step 3: Create a pipeline to handle the preprocessing and model training\n",
        "pipeline = Pipeline(steps=[\n",
        "    ('preprocessor', preprocessor),\n",
        "    ('model', LinearRegression())\n",
        "])\n",
        "\n",
        "# Step 4: Split the data into training and testing sets\n",
        "X_train, X_test, y_train, y_test = train_test_split(X, y, test_size=0.2, random_state=42)\n",
        "\n",
        "# Step 5: Train the model\n",
        "pipeline.fit(X_train, y_train)\n",
        "\n",
        "# Step 6: Get user input for prediction\n",
        "print(\"Welcome to the Indian House Price Prediction System!\")\n",
        "\n",
        "# Collect user inputs\n",
        "square_footage_input = float(input(\"Enter the square footage of the house: \"))\n",
        "num_bedrooms_input = int(input(\"Enter the number of bedrooms in the house: \"))\n",
        "age_of_house_input = int(input(\"Enter the age of the house (in years): \"))\n",
        "location_input = input(\"Enter the location (Delhi, Mumbai, Bangalore, Chennai, Hyderabad): \")\n",
        "house_type_input = input(\"Enter the house type (Apartment, Independent House): \")\n",
        "floor_number_input = int(input(\"Enter the floor number (for apartments): \"))\n",
        "amenities_input = input(\"Enter the amenities (Parking, Swimming Pool, Garden, None): \")\n",
        "furnishing_input = input(\"Enter the furnishing status (Unfurnished, Semi-Furnished, Fully Furnished): \")\n",
        "area_type_input = input(\"Enter the area type (Urban, Rural): \")\n",
        "\n",
        "# Prepare the input data for prediction\n",
        "user_input = pd.DataFrame([[square_footage_input, num_bedrooms_input, age_of_house_input, location_input,\n",
        "                            house_type_input, floor_number_input, amenities_input, furnishing_input, area_type_input]],\n",
        "                          columns=['SquareFootage', 'NumBedrooms', 'AgeOfHouse', 'Location', 'HouseType',\n",
        "                                   'FloorNumber', 'Amenities', 'Furnishing', 'AreaType'])\n",
        "\n",
        "# Step 7: Predict the house price based on user inputs\n",
        "predicted_price = pipeline.predict(user_input)\n",
        "\n",
        "# Step 8: Display the predicted price\n",
        "print(f\"\\nThe predicted price for a house with {square_footage_input} sqft, {num_bedrooms_input} bedrooms, \"\n",
        "      f\"and {age_of_house_input} years old, located in {location_input}, is: ₹{predicted_price[0]:,.2f}\")\n"
      ],
      "metadata": {
        "colab": {
          "base_uri": "https://localhost:8080/"
        },
        "id": "Z8NdGQrX6M9f",
        "outputId": "7a38d3f7-adbb-4345-d426-c329f54e95ac"
      },
      "execution_count": null,
      "outputs": [
        {
          "output_type": "stream",
          "name": "stdout",
          "text": [
            "Welcome to the Indian House Price Prediction System!\n",
            "Enter the square footage of the house: 840\n",
            "Enter the number of bedrooms in the house: 3\n",
            "Enter the age of the house (in years): 18\n",
            "Enter the location (Delhi, Mumbai, Bangalore, Chennai, Hyderabad): Chennai\n",
            "Enter the house type (Apartment, Independent House): Apartment\n",
            "Enter the floor number (for apartments): 1\n",
            "Enter the amenities (Parking, Swimming Pool, Garden, None): None\n",
            "Enter the furnishing status (Unfurnished, Semi-Furnished, Fully Furnished): Fully Furnished\n",
            "Enter the area type (Urban, Rural): Urban\n",
            "\n",
            "The predicted price for a house with 840.0 sqft, 3 bedrooms, and 18 years old, located in Chennai, is: ₹10,567,153.91\n"
          ]
        }
      ]
    },
    {
      "cell_type": "code",
      "source": [
        "import numpy as np\n",
        "import pandas as pd\n",
        "from sklearn.linear_model import LinearRegression\n",
        "from sklearn.model_selection import train_test_split\n",
        "from sklearn.preprocessing import OneHotEncoder\n",
        "from sklearn.compose import ColumnTransformer\n",
        "from sklearn.pipeline import Pipeline"
      ],
      "metadata": {
        "id": "XLRyQd1t8xlw"
      },
      "execution_count": null,
      "outputs": []
    },
    {
      "cell_type": "code",
      "source": [
        "np.random.seed(42)"
      ],
      "metadata": {
        "id": "8Ur_MUNG81de"
      },
      "execution_count": null,
      "outputs": []
    },
    {
      "cell_type": "code",
      "source": [
        "n_samples = 200  # Number of data points\n",
        "square_footage = np.random.randint(500, 3000, size=n_samples)  # Random square footage between 500 and 3000 sqft\n",
        "num_bedrooms = np.random.randint(1, 6, size=n_samples)  # Random number of bedrooms between 1 and 5\n",
        "age_of_house = np.random.randint(1, 50, size=n_samples)  # Random age between 1 and 50 years\n",
        "location = np.random.choice(['Delhi', 'Mumbai', 'Bangalore', 'Chennai', 'Hyderabad'], size=n_samples)  # Random location\n",
        "house_type = np.random.choice(['Apartment', 'Independent House'], size=n_samples)  # House type\n",
        "floor_number = np.random.randint(1, 10, size=n_samples)  # Random floor number for apartments\n",
        "amenities = np.random.choice(['Parking', 'Swimming Pool', 'Garden', 'None'], size=n_samples)  # Random amenities\n",
        "furnishing = np.random.choice(['Unfurnished', 'Semi-Furnished', 'Fully Furnished'], size=n_samples)  # Furnishing status\n",
        "area_type = np.random.choice(['Urban', 'Rural'], size=n_samples)"
      ],
      "metadata": {
        "id": "z4E12wDV84EO"
      },
      "execution_count": null,
      "outputs": []
    },
    {
      "cell_type": "code",
      "source": [
        "price = (square_footage * 5000) + (num_bedrooms * 200000) - (age_of_house * 1000) + \\\n",
        "        (floor_number * 10000) + np.random.randint(1000000, 10000000, size=n_samples)"
      ],
      "metadata": {
        "id": "LFvX7f9N9Ate"
      },
      "execution_count": null,
      "outputs": []
    },
    {
      "cell_type": "code",
      "source": [
        "data = pd.DataFrame({\n",
        "    'SquareFootage': square_footage,\n",
        "    'NumBedrooms': num_bedrooms,\n",
        "    'AgeOfHouse': age_of_house,\n",
        "    'Location': location,\n",
        "    'HouseType': house_type,\n",
        "    'FloorNumber': floor_number,\n",
        "    'Amenities': amenities,\n",
        "    'Furnishing': furnishing,\n",
        "    'AreaType': area_type,\n",
        "    'Price': price\n",
        "})"
      ],
      "metadata": {
        "id": "Y2xy-tbO9EjG"
      },
      "execution_count": null,
      "outputs": []
    },
    {
      "cell_type": "code",
      "source": [],
      "metadata": {
        "id": "uXQIbo6j9Pq-"
      },
      "execution_count": null,
      "outputs": []
    },
    {
      "cell_type": "code",
      "source": [
        "X = data.drop('Price', axis=1)  # Features\n",
        "y = data['Price']"
      ],
      "metadata": {
        "id": "HIHSSJIM9GBm"
      },
      "execution_count": null,
      "outputs": []
    },
    {
      "cell_type": "code",
      "source": [
        "preprocessor = ColumnTransformer(\n",
        "    transformers=[\n",
        "        ('num', 'passthrough', ['SquareFootage', 'NumBedrooms', 'AgeOfHouse', 'FloorNumber']),  # Keep numeric columns as is\n",
        "        ('cat', OneHotEncoder(), ['Location', 'HouseType', 'Amenities', 'Furnishing', 'AreaType'])  # One-hot encode categorical columns\n",
        "    ])"
      ],
      "metadata": {
        "id": "M3xeIB5H9KQv"
      },
      "execution_count": null,
      "outputs": []
    },
    {
      "cell_type": "code",
      "source": [
        "pipeline = Pipeline(steps=[\n",
        "    ('preprocessor', preprocessor),\n",
        "    ('model', LinearRegression())\n",
        "])"
      ],
      "metadata": {
        "id": "mFOR6g5n9M2W"
      },
      "execution_count": null,
      "outputs": []
    },
    {
      "cell_type": "code",
      "source": [
        "X_train, X_test, y_train, y_test = train_test_split(X, y, test_size=0.2, random_state=42)\n"
      ],
      "metadata": {
        "id": "zBZWRQ1x9Qne"
      },
      "execution_count": null,
      "outputs": []
    },
    {
      "cell_type": "code",
      "source": [
        "pipeline.fit(X_train, y_train)"
      ],
      "metadata": {
        "colab": {
          "base_uri": "https://localhost:8080/",
          "height": 606
        },
        "id": "r5NG-84k9WU3",
        "outputId": "9b9e32ff-36d1-4652-de29-bdf0eb4a1c43"
      },
      "execution_count": null,
      "outputs": [
        {
          "output_type": "execute_result",
          "data": {
            "text/plain": [
              "Pipeline(steps=[('preprocessor',\n",
              "                 ColumnTransformer(transformers=[('num', 'passthrough',\n",
              "                                                  ['SquareFootage',\n",
              "                                                   'NumBedrooms', 'AgeOfHouse',\n",
              "                                                   'FloorNumber']),\n",
              "                                                 ('cat', OneHotEncoder(),\n",
              "                                                  ['Location', 'HouseType',\n",
              "                                                   'Amenities', 'Furnishing',\n",
              "                                                   'AreaType'])])),\n",
              "                ('model', LinearRegression())])"
            ],
            "text/html": [
              "<style>#sk-container-id-1 {\n",
              "  /* Definition of color scheme common for light and dark mode */\n",
              "  --sklearn-color-text: #000;\n",
              "  --sklearn-color-text-muted: #666;\n",
              "  --sklearn-color-line: gray;\n",
              "  /* Definition of color scheme for unfitted estimators */\n",
              "  --sklearn-color-unfitted-level-0: #fff5e6;\n",
              "  --sklearn-color-unfitted-level-1: #f6e4d2;\n",
              "  --sklearn-color-unfitted-level-2: #ffe0b3;\n",
              "  --sklearn-color-unfitted-level-3: chocolate;\n",
              "  /* Definition of color scheme for fitted estimators */\n",
              "  --sklearn-color-fitted-level-0: #f0f8ff;\n",
              "  --sklearn-color-fitted-level-1: #d4ebff;\n",
              "  --sklearn-color-fitted-level-2: #b3dbfd;\n",
              "  --sklearn-color-fitted-level-3: cornflowerblue;\n",
              "\n",
              "  /* Specific color for light theme */\n",
              "  --sklearn-color-text-on-default-background: var(--sg-text-color, var(--theme-code-foreground, var(--jp-content-font-color1, black)));\n",
              "  --sklearn-color-background: var(--sg-background-color, var(--theme-background, var(--jp-layout-color0, white)));\n",
              "  --sklearn-color-border-box: var(--sg-text-color, var(--theme-code-foreground, var(--jp-content-font-color1, black)));\n",
              "  --sklearn-color-icon: #696969;\n",
              "\n",
              "  @media (prefers-color-scheme: dark) {\n",
              "    /* Redefinition of color scheme for dark theme */\n",
              "    --sklearn-color-text-on-default-background: var(--sg-text-color, var(--theme-code-foreground, var(--jp-content-font-color1, white)));\n",
              "    --sklearn-color-background: var(--sg-background-color, var(--theme-background, var(--jp-layout-color0, #111)));\n",
              "    --sklearn-color-border-box: var(--sg-text-color, var(--theme-code-foreground, var(--jp-content-font-color1, white)));\n",
              "    --sklearn-color-icon: #878787;\n",
              "  }\n",
              "}\n",
              "\n",
              "#sk-container-id-1 {\n",
              "  color: var(--sklearn-color-text);\n",
              "}\n",
              "\n",
              "#sk-container-id-1 pre {\n",
              "  padding: 0;\n",
              "}\n",
              "\n",
              "#sk-container-id-1 input.sk-hidden--visually {\n",
              "  border: 0;\n",
              "  clip: rect(1px 1px 1px 1px);\n",
              "  clip: rect(1px, 1px, 1px, 1px);\n",
              "  height: 1px;\n",
              "  margin: -1px;\n",
              "  overflow: hidden;\n",
              "  padding: 0;\n",
              "  position: absolute;\n",
              "  width: 1px;\n",
              "}\n",
              "\n",
              "#sk-container-id-1 div.sk-dashed-wrapped {\n",
              "  border: 1px dashed var(--sklearn-color-line);\n",
              "  margin: 0 0.4em 0.5em 0.4em;\n",
              "  box-sizing: border-box;\n",
              "  padding-bottom: 0.4em;\n",
              "  background-color: var(--sklearn-color-background);\n",
              "}\n",
              "\n",
              "#sk-container-id-1 div.sk-container {\n",
              "  /* jupyter's `normalize.less` sets `[hidden] { display: none; }`\n",
              "     but bootstrap.min.css set `[hidden] { display: none !important; }`\n",
              "     so we also need the `!important` here to be able to override the\n",
              "     default hidden behavior on the sphinx rendered scikit-learn.org.\n",
              "     See: https://github.com/scikit-learn/scikit-learn/issues/21755 */\n",
              "  display: inline-block !important;\n",
              "  position: relative;\n",
              "}\n",
              "\n",
              "#sk-container-id-1 div.sk-text-repr-fallback {\n",
              "  display: none;\n",
              "}\n",
              "\n",
              "div.sk-parallel-item,\n",
              "div.sk-serial,\n",
              "div.sk-item {\n",
              "  /* draw centered vertical line to link estimators */\n",
              "  background-image: linear-gradient(var(--sklearn-color-text-on-default-background), var(--sklearn-color-text-on-default-background));\n",
              "  background-size: 2px 100%;\n",
              "  background-repeat: no-repeat;\n",
              "  background-position: center center;\n",
              "}\n",
              "\n",
              "/* Parallel-specific style estimator block */\n",
              "\n",
              "#sk-container-id-1 div.sk-parallel-item::after {\n",
              "  content: \"\";\n",
              "  width: 100%;\n",
              "  border-bottom: 2px solid var(--sklearn-color-text-on-default-background);\n",
              "  flex-grow: 1;\n",
              "}\n",
              "\n",
              "#sk-container-id-1 div.sk-parallel {\n",
              "  display: flex;\n",
              "  align-items: stretch;\n",
              "  justify-content: center;\n",
              "  background-color: var(--sklearn-color-background);\n",
              "  position: relative;\n",
              "}\n",
              "\n",
              "#sk-container-id-1 div.sk-parallel-item {\n",
              "  display: flex;\n",
              "  flex-direction: column;\n",
              "}\n",
              "\n",
              "#sk-container-id-1 div.sk-parallel-item:first-child::after {\n",
              "  align-self: flex-end;\n",
              "  width: 50%;\n",
              "}\n",
              "\n",
              "#sk-container-id-1 div.sk-parallel-item:last-child::after {\n",
              "  align-self: flex-start;\n",
              "  width: 50%;\n",
              "}\n",
              "\n",
              "#sk-container-id-1 div.sk-parallel-item:only-child::after {\n",
              "  width: 0;\n",
              "}\n",
              "\n",
              "/* Serial-specific style estimator block */\n",
              "\n",
              "#sk-container-id-1 div.sk-serial {\n",
              "  display: flex;\n",
              "  flex-direction: column;\n",
              "  align-items: center;\n",
              "  background-color: var(--sklearn-color-background);\n",
              "  padding-right: 1em;\n",
              "  padding-left: 1em;\n",
              "}\n",
              "\n",
              "\n",
              "/* Toggleable style: style used for estimator/Pipeline/ColumnTransformer box that is\n",
              "clickable and can be expanded/collapsed.\n",
              "- Pipeline and ColumnTransformer use this feature and define the default style\n",
              "- Estimators will overwrite some part of the style using the `sk-estimator` class\n",
              "*/\n",
              "\n",
              "/* Pipeline and ColumnTransformer style (default) */\n",
              "\n",
              "#sk-container-id-1 div.sk-toggleable {\n",
              "  /* Default theme specific background. It is overwritten whether we have a\n",
              "  specific estimator or a Pipeline/ColumnTransformer */\n",
              "  background-color: var(--sklearn-color-background);\n",
              "}\n",
              "\n",
              "/* Toggleable label */\n",
              "#sk-container-id-1 label.sk-toggleable__label {\n",
              "  cursor: pointer;\n",
              "  display: flex;\n",
              "  width: 100%;\n",
              "  margin-bottom: 0;\n",
              "  padding: 0.5em;\n",
              "  box-sizing: border-box;\n",
              "  text-align: center;\n",
              "  align-items: start;\n",
              "  justify-content: space-between;\n",
              "  gap: 0.5em;\n",
              "}\n",
              "\n",
              "#sk-container-id-1 label.sk-toggleable__label .caption {\n",
              "  font-size: 0.6rem;\n",
              "  font-weight: lighter;\n",
              "  color: var(--sklearn-color-text-muted);\n",
              "}\n",
              "\n",
              "#sk-container-id-1 label.sk-toggleable__label-arrow:before {\n",
              "  /* Arrow on the left of the label */\n",
              "  content: \"▸\";\n",
              "  float: left;\n",
              "  margin-right: 0.25em;\n",
              "  color: var(--sklearn-color-icon);\n",
              "}\n",
              "\n",
              "#sk-container-id-1 label.sk-toggleable__label-arrow:hover:before {\n",
              "  color: var(--sklearn-color-text);\n",
              "}\n",
              "\n",
              "/* Toggleable content - dropdown */\n",
              "\n",
              "#sk-container-id-1 div.sk-toggleable__content {\n",
              "  max-height: 0;\n",
              "  max-width: 0;\n",
              "  overflow: hidden;\n",
              "  text-align: left;\n",
              "  /* unfitted */\n",
              "  background-color: var(--sklearn-color-unfitted-level-0);\n",
              "}\n",
              "\n",
              "#sk-container-id-1 div.sk-toggleable__content.fitted {\n",
              "  /* fitted */\n",
              "  background-color: var(--sklearn-color-fitted-level-0);\n",
              "}\n",
              "\n",
              "#sk-container-id-1 div.sk-toggleable__content pre {\n",
              "  margin: 0.2em;\n",
              "  border-radius: 0.25em;\n",
              "  color: var(--sklearn-color-text);\n",
              "  /* unfitted */\n",
              "  background-color: var(--sklearn-color-unfitted-level-0);\n",
              "}\n",
              "\n",
              "#sk-container-id-1 div.sk-toggleable__content.fitted pre {\n",
              "  /* unfitted */\n",
              "  background-color: var(--sklearn-color-fitted-level-0);\n",
              "}\n",
              "\n",
              "#sk-container-id-1 input.sk-toggleable__control:checked~div.sk-toggleable__content {\n",
              "  /* Expand drop-down */\n",
              "  max-height: 200px;\n",
              "  max-width: 100%;\n",
              "  overflow: auto;\n",
              "}\n",
              "\n",
              "#sk-container-id-1 input.sk-toggleable__control:checked~label.sk-toggleable__label-arrow:before {\n",
              "  content: \"▾\";\n",
              "}\n",
              "\n",
              "/* Pipeline/ColumnTransformer-specific style */\n",
              "\n",
              "#sk-container-id-1 div.sk-label input.sk-toggleable__control:checked~label.sk-toggleable__label {\n",
              "  color: var(--sklearn-color-text);\n",
              "  background-color: var(--sklearn-color-unfitted-level-2);\n",
              "}\n",
              "\n",
              "#sk-container-id-1 div.sk-label.fitted input.sk-toggleable__control:checked~label.sk-toggleable__label {\n",
              "  background-color: var(--sklearn-color-fitted-level-2);\n",
              "}\n",
              "\n",
              "/* Estimator-specific style */\n",
              "\n",
              "/* Colorize estimator box */\n",
              "#sk-container-id-1 div.sk-estimator input.sk-toggleable__control:checked~label.sk-toggleable__label {\n",
              "  /* unfitted */\n",
              "  background-color: var(--sklearn-color-unfitted-level-2);\n",
              "}\n",
              "\n",
              "#sk-container-id-1 div.sk-estimator.fitted input.sk-toggleable__control:checked~label.sk-toggleable__label {\n",
              "  /* fitted */\n",
              "  background-color: var(--sklearn-color-fitted-level-2);\n",
              "}\n",
              "\n",
              "#sk-container-id-1 div.sk-label label.sk-toggleable__label,\n",
              "#sk-container-id-1 div.sk-label label {\n",
              "  /* The background is the default theme color */\n",
              "  color: var(--sklearn-color-text-on-default-background);\n",
              "}\n",
              "\n",
              "/* On hover, darken the color of the background */\n",
              "#sk-container-id-1 div.sk-label:hover label.sk-toggleable__label {\n",
              "  color: var(--sklearn-color-text);\n",
              "  background-color: var(--sklearn-color-unfitted-level-2);\n",
              "}\n",
              "\n",
              "/* Label box, darken color on hover, fitted */\n",
              "#sk-container-id-1 div.sk-label.fitted:hover label.sk-toggleable__label.fitted {\n",
              "  color: var(--sklearn-color-text);\n",
              "  background-color: var(--sklearn-color-fitted-level-2);\n",
              "}\n",
              "\n",
              "/* Estimator label */\n",
              "\n",
              "#sk-container-id-1 div.sk-label label {\n",
              "  font-family: monospace;\n",
              "  font-weight: bold;\n",
              "  display: inline-block;\n",
              "  line-height: 1.2em;\n",
              "}\n",
              "\n",
              "#sk-container-id-1 div.sk-label-container {\n",
              "  text-align: center;\n",
              "}\n",
              "\n",
              "/* Estimator-specific */\n",
              "#sk-container-id-1 div.sk-estimator {\n",
              "  font-family: monospace;\n",
              "  border: 1px dotted var(--sklearn-color-border-box);\n",
              "  border-radius: 0.25em;\n",
              "  box-sizing: border-box;\n",
              "  margin-bottom: 0.5em;\n",
              "  /* unfitted */\n",
              "  background-color: var(--sklearn-color-unfitted-level-0);\n",
              "}\n",
              "\n",
              "#sk-container-id-1 div.sk-estimator.fitted {\n",
              "  /* fitted */\n",
              "  background-color: var(--sklearn-color-fitted-level-0);\n",
              "}\n",
              "\n",
              "/* on hover */\n",
              "#sk-container-id-1 div.sk-estimator:hover {\n",
              "  /* unfitted */\n",
              "  background-color: var(--sklearn-color-unfitted-level-2);\n",
              "}\n",
              "\n",
              "#sk-container-id-1 div.sk-estimator.fitted:hover {\n",
              "  /* fitted */\n",
              "  background-color: var(--sklearn-color-fitted-level-2);\n",
              "}\n",
              "\n",
              "/* Specification for estimator info (e.g. \"i\" and \"?\") */\n",
              "\n",
              "/* Common style for \"i\" and \"?\" */\n",
              "\n",
              ".sk-estimator-doc-link,\n",
              "a:link.sk-estimator-doc-link,\n",
              "a:visited.sk-estimator-doc-link {\n",
              "  float: right;\n",
              "  font-size: smaller;\n",
              "  line-height: 1em;\n",
              "  font-family: monospace;\n",
              "  background-color: var(--sklearn-color-background);\n",
              "  border-radius: 1em;\n",
              "  height: 1em;\n",
              "  width: 1em;\n",
              "  text-decoration: none !important;\n",
              "  margin-left: 0.5em;\n",
              "  text-align: center;\n",
              "  /* unfitted */\n",
              "  border: var(--sklearn-color-unfitted-level-1) 1pt solid;\n",
              "  color: var(--sklearn-color-unfitted-level-1);\n",
              "}\n",
              "\n",
              ".sk-estimator-doc-link.fitted,\n",
              "a:link.sk-estimator-doc-link.fitted,\n",
              "a:visited.sk-estimator-doc-link.fitted {\n",
              "  /* fitted */\n",
              "  border: var(--sklearn-color-fitted-level-1) 1pt solid;\n",
              "  color: var(--sklearn-color-fitted-level-1);\n",
              "}\n",
              "\n",
              "/* On hover */\n",
              "div.sk-estimator:hover .sk-estimator-doc-link:hover,\n",
              ".sk-estimator-doc-link:hover,\n",
              "div.sk-label-container:hover .sk-estimator-doc-link:hover,\n",
              ".sk-estimator-doc-link:hover {\n",
              "  /* unfitted */\n",
              "  background-color: var(--sklearn-color-unfitted-level-3);\n",
              "  color: var(--sklearn-color-background);\n",
              "  text-decoration: none;\n",
              "}\n",
              "\n",
              "div.sk-estimator.fitted:hover .sk-estimator-doc-link.fitted:hover,\n",
              ".sk-estimator-doc-link.fitted:hover,\n",
              "div.sk-label-container:hover .sk-estimator-doc-link.fitted:hover,\n",
              ".sk-estimator-doc-link.fitted:hover {\n",
              "  /* fitted */\n",
              "  background-color: var(--sklearn-color-fitted-level-3);\n",
              "  color: var(--sklearn-color-background);\n",
              "  text-decoration: none;\n",
              "}\n",
              "\n",
              "/* Span, style for the box shown on hovering the info icon */\n",
              ".sk-estimator-doc-link span {\n",
              "  display: none;\n",
              "  z-index: 9999;\n",
              "  position: relative;\n",
              "  font-weight: normal;\n",
              "  right: .2ex;\n",
              "  padding: .5ex;\n",
              "  margin: .5ex;\n",
              "  width: min-content;\n",
              "  min-width: 20ex;\n",
              "  max-width: 50ex;\n",
              "  color: var(--sklearn-color-text);\n",
              "  box-shadow: 2pt 2pt 4pt #999;\n",
              "  /* unfitted */\n",
              "  background: var(--sklearn-color-unfitted-level-0);\n",
              "  border: .5pt solid var(--sklearn-color-unfitted-level-3);\n",
              "}\n",
              "\n",
              ".sk-estimator-doc-link.fitted span {\n",
              "  /* fitted */\n",
              "  background: var(--sklearn-color-fitted-level-0);\n",
              "  border: var(--sklearn-color-fitted-level-3);\n",
              "}\n",
              "\n",
              ".sk-estimator-doc-link:hover span {\n",
              "  display: block;\n",
              "}\n",
              "\n",
              "/* \"?\"-specific style due to the `<a>` HTML tag */\n",
              "\n",
              "#sk-container-id-1 a.estimator_doc_link {\n",
              "  float: right;\n",
              "  font-size: 1rem;\n",
              "  line-height: 1em;\n",
              "  font-family: monospace;\n",
              "  background-color: var(--sklearn-color-background);\n",
              "  border-radius: 1rem;\n",
              "  height: 1rem;\n",
              "  width: 1rem;\n",
              "  text-decoration: none;\n",
              "  /* unfitted */\n",
              "  color: var(--sklearn-color-unfitted-level-1);\n",
              "  border: var(--sklearn-color-unfitted-level-1) 1pt solid;\n",
              "}\n",
              "\n",
              "#sk-container-id-1 a.estimator_doc_link.fitted {\n",
              "  /* fitted */\n",
              "  border: var(--sklearn-color-fitted-level-1) 1pt solid;\n",
              "  color: var(--sklearn-color-fitted-level-1);\n",
              "}\n",
              "\n",
              "/* On hover */\n",
              "#sk-container-id-1 a.estimator_doc_link:hover {\n",
              "  /* unfitted */\n",
              "  background-color: var(--sklearn-color-unfitted-level-3);\n",
              "  color: var(--sklearn-color-background);\n",
              "  text-decoration: none;\n",
              "}\n",
              "\n",
              "#sk-container-id-1 a.estimator_doc_link.fitted:hover {\n",
              "  /* fitted */\n",
              "  background-color: var(--sklearn-color-fitted-level-3);\n",
              "}\n",
              "</style><div id=\"sk-container-id-1\" class=\"sk-top-container\"><div class=\"sk-text-repr-fallback\"><pre>Pipeline(steps=[(&#x27;preprocessor&#x27;,\n",
              "                 ColumnTransformer(transformers=[(&#x27;num&#x27;, &#x27;passthrough&#x27;,\n",
              "                                                  [&#x27;SquareFootage&#x27;,\n",
              "                                                   &#x27;NumBedrooms&#x27;, &#x27;AgeOfHouse&#x27;,\n",
              "                                                   &#x27;FloorNumber&#x27;]),\n",
              "                                                 (&#x27;cat&#x27;, OneHotEncoder(),\n",
              "                                                  [&#x27;Location&#x27;, &#x27;HouseType&#x27;,\n",
              "                                                   &#x27;Amenities&#x27;, &#x27;Furnishing&#x27;,\n",
              "                                                   &#x27;AreaType&#x27;])])),\n",
              "                (&#x27;model&#x27;, LinearRegression())])</pre><b>In a Jupyter environment, please rerun this cell to show the HTML representation or trust the notebook. <br />On GitHub, the HTML representation is unable to render, please try loading this page with nbviewer.org.</b></div><div class=\"sk-container\" hidden><div class=\"sk-item sk-dashed-wrapped\"><div class=\"sk-label-container\"><div class=\"sk-label fitted sk-toggleable\"><input class=\"sk-toggleable__control sk-hidden--visually\" id=\"sk-estimator-id-1\" type=\"checkbox\" ><label for=\"sk-estimator-id-1\" class=\"sk-toggleable__label fitted sk-toggleable__label-arrow\"><div><div>Pipeline</div></div><div><a class=\"sk-estimator-doc-link fitted\" rel=\"noreferrer\" target=\"_blank\" href=\"https://scikit-learn.org/1.6/modules/generated/sklearn.pipeline.Pipeline.html\">?<span>Documentation for Pipeline</span></a><span class=\"sk-estimator-doc-link fitted\">i<span>Fitted</span></span></div></label><div class=\"sk-toggleable__content fitted\"><pre>Pipeline(steps=[(&#x27;preprocessor&#x27;,\n",
              "                 ColumnTransformer(transformers=[(&#x27;num&#x27;, &#x27;passthrough&#x27;,\n",
              "                                                  [&#x27;SquareFootage&#x27;,\n",
              "                                                   &#x27;NumBedrooms&#x27;, &#x27;AgeOfHouse&#x27;,\n",
              "                                                   &#x27;FloorNumber&#x27;]),\n",
              "                                                 (&#x27;cat&#x27;, OneHotEncoder(),\n",
              "                                                  [&#x27;Location&#x27;, &#x27;HouseType&#x27;,\n",
              "                                                   &#x27;Amenities&#x27;, &#x27;Furnishing&#x27;,\n",
              "                                                   &#x27;AreaType&#x27;])])),\n",
              "                (&#x27;model&#x27;, LinearRegression())])</pre></div> </div></div><div class=\"sk-serial\"><div class=\"sk-item sk-dashed-wrapped\"><div class=\"sk-label-container\"><div class=\"sk-label fitted sk-toggleable\"><input class=\"sk-toggleable__control sk-hidden--visually\" id=\"sk-estimator-id-2\" type=\"checkbox\" ><label for=\"sk-estimator-id-2\" class=\"sk-toggleable__label fitted sk-toggleable__label-arrow\"><div><div>preprocessor: ColumnTransformer</div></div><div><a class=\"sk-estimator-doc-link fitted\" rel=\"noreferrer\" target=\"_blank\" href=\"https://scikit-learn.org/1.6/modules/generated/sklearn.compose.ColumnTransformer.html\">?<span>Documentation for preprocessor: ColumnTransformer</span></a></div></label><div class=\"sk-toggleable__content fitted\"><pre>ColumnTransformer(transformers=[(&#x27;num&#x27;, &#x27;passthrough&#x27;,\n",
              "                                 [&#x27;SquareFootage&#x27;, &#x27;NumBedrooms&#x27;, &#x27;AgeOfHouse&#x27;,\n",
              "                                  &#x27;FloorNumber&#x27;]),\n",
              "                                (&#x27;cat&#x27;, OneHotEncoder(),\n",
              "                                 [&#x27;Location&#x27;, &#x27;HouseType&#x27;, &#x27;Amenities&#x27;,\n",
              "                                  &#x27;Furnishing&#x27;, &#x27;AreaType&#x27;])])</pre></div> </div></div><div class=\"sk-parallel\"><div class=\"sk-parallel-item\"><div class=\"sk-item\"><div class=\"sk-label-container\"><div class=\"sk-label fitted sk-toggleable\"><input class=\"sk-toggleable__control sk-hidden--visually\" id=\"sk-estimator-id-3\" type=\"checkbox\" ><label for=\"sk-estimator-id-3\" class=\"sk-toggleable__label fitted sk-toggleable__label-arrow\"><div><div>num</div></div></label><div class=\"sk-toggleable__content fitted\"><pre>[&#x27;SquareFootage&#x27;, &#x27;NumBedrooms&#x27;, &#x27;AgeOfHouse&#x27;, &#x27;FloorNumber&#x27;]</pre></div> </div></div><div class=\"sk-serial\"><div class=\"sk-item\"><div class=\"sk-estimator fitted sk-toggleable\"><input class=\"sk-toggleable__control sk-hidden--visually\" id=\"sk-estimator-id-4\" type=\"checkbox\" ><label for=\"sk-estimator-id-4\" class=\"sk-toggleable__label fitted sk-toggleable__label-arrow\"><div><div>passthrough</div></div></label><div class=\"sk-toggleable__content fitted\"><pre>passthrough</pre></div> </div></div></div></div></div><div class=\"sk-parallel-item\"><div class=\"sk-item\"><div class=\"sk-label-container\"><div class=\"sk-label fitted sk-toggleable\"><input class=\"sk-toggleable__control sk-hidden--visually\" id=\"sk-estimator-id-5\" type=\"checkbox\" ><label for=\"sk-estimator-id-5\" class=\"sk-toggleable__label fitted sk-toggleable__label-arrow\"><div><div>cat</div></div></label><div class=\"sk-toggleable__content fitted\"><pre>[&#x27;Location&#x27;, &#x27;HouseType&#x27;, &#x27;Amenities&#x27;, &#x27;Furnishing&#x27;, &#x27;AreaType&#x27;]</pre></div> </div></div><div class=\"sk-serial\"><div class=\"sk-item\"><div class=\"sk-estimator fitted sk-toggleable\"><input class=\"sk-toggleable__control sk-hidden--visually\" id=\"sk-estimator-id-6\" type=\"checkbox\" ><label for=\"sk-estimator-id-6\" class=\"sk-toggleable__label fitted sk-toggleable__label-arrow\"><div><div>OneHotEncoder</div></div><div><a class=\"sk-estimator-doc-link fitted\" rel=\"noreferrer\" target=\"_blank\" href=\"https://scikit-learn.org/1.6/modules/generated/sklearn.preprocessing.OneHotEncoder.html\">?<span>Documentation for OneHotEncoder</span></a></div></label><div class=\"sk-toggleable__content fitted\"><pre>OneHotEncoder()</pre></div> </div></div></div></div></div></div></div><div class=\"sk-item\"><div class=\"sk-estimator fitted sk-toggleable\"><input class=\"sk-toggleable__control sk-hidden--visually\" id=\"sk-estimator-id-7\" type=\"checkbox\" ><label for=\"sk-estimator-id-7\" class=\"sk-toggleable__label fitted sk-toggleable__label-arrow\"><div><div>LinearRegression</div></div><div><a class=\"sk-estimator-doc-link fitted\" rel=\"noreferrer\" target=\"_blank\" href=\"https://scikit-learn.org/1.6/modules/generated/sklearn.linear_model.LinearRegression.html\">?<span>Documentation for LinearRegression</span></a></div></label><div class=\"sk-toggleable__content fitted\"><pre>LinearRegression()</pre></div> </div></div></div></div></div></div>"
            ]
          },
          "metadata": {},
          "execution_count": 41
        }
      ]
    },
    {
      "cell_type": "code",
      "source": [
        "print(\"Welcome to the Indian House Price Prediction System!\")"
      ],
      "metadata": {
        "colab": {
          "base_uri": "https://localhost:8080/"
        },
        "id": "FivTDV0z9f3-",
        "outputId": "d608f64d-aa15-485e-9c6b-6e8fbc385d86"
      },
      "execution_count": null,
      "outputs": [
        {
          "output_type": "stream",
          "name": "stdout",
          "text": [
            "Welcome to the Indian House Price Prediction System!\n"
          ]
        }
      ]
    },
    {
      "cell_type": "code",
      "source": [
        "square_footage_input = float(input(\"Enter the square footage of the house: \"))"
      ],
      "metadata": {
        "colab": {
          "base_uri": "https://localhost:8080/"
        },
        "id": "cbcGpdGX9il2",
        "outputId": "a0e3da9f-3613-42a2-e67b-b101a9b9a951"
      },
      "execution_count": null,
      "outputs": [
        {
          "name": "stdout",
          "output_type": "stream",
          "text": [
            "Enter the square footage of the house: 2355\n"
          ]
        }
      ]
    },
    {
      "cell_type": "code",
      "source": [
        "import numpy as np\n",
        "import pandas as pd\n",
        "from sklearn.model_selection import train_test_split\n",
        "from sklearn.preprocessing import StandardScaler\n",
        "from sklearn.linear_model import LogisticRegression\n",
        "from sklearn.metrics import accuracy_score"
      ],
      "metadata": {
        "id": "SZ2k8mK7-cqe"
      },
      "execution_count": null,
      "outputs": []
    },
    {
      "cell_type": "code",
      "source": [
        "data = {\n",
        "    'size': [800, 1200, 1500, 2000, 2500, 3000, 3500, 4000, 4500, 5000],\n",
        "    'bedrooms': [1, 2, 2, 3, 3, 4, 4, 5, 5, 6],\n",
        "    'price_category': [0, 0, 0, 1, 1, 1, 2, 2, 2, 2]  # low, medium, high price categories\n",
        "}"
      ],
      "metadata": {
        "id": "DPEfWApv-nRG"
      },
      "execution_count": null,
      "outputs": []
    },
    {
      "cell_type": "code",
      "source": [
        "df = pd.DataFrame(data)"
      ],
      "metadata": {
        "id": "_IswYtDa-wG-"
      },
      "execution_count": null,
      "outputs": []
    },
    {
      "cell_type": "code",
      "source": [
        "from googletrans import Translator\n",
        "\n",
        "# Initialize the translator\n",
        "translator = Translator()\n",
        "\n",
        "# Function to translate text\n",
        "def translate_text(text, target_language):\n",
        "    translation = translator.translate(text, dest=target_language)\n",
        "    return translation.text\n",
        "\n",
        "# Input from the user\n",
        "source_text = input(\"Enter the text you want to translate: \")\n",
        "target_language = input(\"Enter the target language code (e.g., 'en' for English, 'fr' for French, 'es' for Spanish): \")\n",
        "\n",
        "# Translate the text\n",
        "translated_text = translate_text(source_text, target_language)\n",
        "\n",
        "# Output the translation\n",
        "print(f\"Translated text: {translated_text}\")\n"
      ],
      "metadata": {
        "colab": {
          "base_uri": "https://localhost:8080/",
          "height": 383
        },
        "id": "MWLwiMh-AZzY",
        "outputId": "37e230fe-277b-444d-cec7-2382cce8a5c4"
      },
      "execution_count": null,
      "outputs": [
        {
          "output_type": "error",
          "ename": "ModuleNotFoundError",
          "evalue": "No module named 'googletrans'",
          "traceback": [
            "\u001b[0;31m---------------------------------------------------------------------------\u001b[0m",
            "\u001b[0;31mModuleNotFoundError\u001b[0m                       Traceback (most recent call last)",
            "\u001b[0;32m<ipython-input-49-040b9be8387e>\u001b[0m in \u001b[0;36m<cell line: 0>\u001b[0;34m()\u001b[0m\n\u001b[0;32m----> 1\u001b[0;31m \u001b[0;32mfrom\u001b[0m \u001b[0mgoogletrans\u001b[0m \u001b[0;32mimport\u001b[0m \u001b[0mTranslator\u001b[0m\u001b[0;34m\u001b[0m\u001b[0;34m\u001b[0m\u001b[0m\n\u001b[0m\u001b[1;32m      2\u001b[0m \u001b[0;34m\u001b[0m\u001b[0m\n\u001b[1;32m      3\u001b[0m \u001b[0;31m# Initialize the translator\u001b[0m\u001b[0;34m\u001b[0m\u001b[0;34m\u001b[0m\u001b[0m\n\u001b[1;32m      4\u001b[0m \u001b[0mtranslator\u001b[0m \u001b[0;34m=\u001b[0m \u001b[0mTranslator\u001b[0m\u001b[0;34m(\u001b[0m\u001b[0;34m)\u001b[0m\u001b[0;34m\u001b[0m\u001b[0;34m\u001b[0m\u001b[0m\n\u001b[1;32m      5\u001b[0m \u001b[0;34m\u001b[0m\u001b[0m\n",
            "\u001b[0;31mModuleNotFoundError\u001b[0m: No module named 'googletrans'",
            "",
            "\u001b[0;31m---------------------------------------------------------------------------\u001b[0;32m\nNOTE: If your import is failing due to a missing package, you can\nmanually install dependencies using either !pip or !apt.\n\nTo view examples of installing some common dependencies, click the\n\"Open Examples\" button below.\n\u001b[0;31m---------------------------------------------------------------------------\u001b[0m\n"
          ],
          "errorDetails": {
            "actions": [
              {
                "action": "open_url",
                "actionText": "Open Examples",
                "url": "/notebooks/snippets/importing_libraries.ipynb"
              }
            ]
          }
        }
      ]
    },
    {
      "cell_type": "code",
      "source": [
        "!pip install googletrans==4.0.0-rc1\n"
      ],
      "metadata": {
        "colab": {
          "base_uri": "https://localhost:8080/"
        },
        "id": "l4bnCUHqAdZX",
        "outputId": "217c32d4-1cd1-42eb-b685-6dfc94db864a"
      },
      "execution_count": 3,
      "outputs": [
        {
          "output_type": "stream",
          "name": "stdout",
          "text": [
            "Collecting googletrans==4.0.0-rc1\n",
            "  Downloading googletrans-4.0.0rc1.tar.gz (20 kB)\n",
            "  Preparing metadata (setup.py) ... \u001b[?25l\u001b[?25hdone\n",
            "Collecting httpx==0.13.3 (from googletrans==4.0.0-rc1)\n",
            "  Downloading httpx-0.13.3-py3-none-any.whl.metadata (25 kB)\n",
            "Requirement already satisfied: certifi in /usr/local/lib/python3.11/dist-packages (from httpx==0.13.3->googletrans==4.0.0-rc1) (2025.1.31)\n",
            "Collecting hstspreload (from httpx==0.13.3->googletrans==4.0.0-rc1)\n",
            "  Downloading hstspreload-2025.1.1-py3-none-any.whl.metadata (2.1 kB)\n",
            "Requirement already satisfied: sniffio in /usr/local/lib/python3.11/dist-packages (from httpx==0.13.3->googletrans==4.0.0-rc1) (1.3.1)\n",
            "Collecting chardet==3.* (from httpx==0.13.3->googletrans==4.0.0-rc1)\n",
            "  Downloading chardet-3.0.4-py2.py3-none-any.whl.metadata (3.2 kB)\n",
            "Collecting idna==2.* (from httpx==0.13.3->googletrans==4.0.0-rc1)\n",
            "  Downloading idna-2.10-py2.py3-none-any.whl.metadata (9.1 kB)\n",
            "Collecting rfc3986<2,>=1.3 (from httpx==0.13.3->googletrans==4.0.0-rc1)\n",
            "  Downloading rfc3986-1.5.0-py2.py3-none-any.whl.metadata (6.5 kB)\n",
            "Collecting httpcore==0.9.* (from httpx==0.13.3->googletrans==4.0.0-rc1)\n",
            "  Downloading httpcore-0.9.1-py3-none-any.whl.metadata (4.6 kB)\n",
            "Collecting h11<0.10,>=0.8 (from httpcore==0.9.*->httpx==0.13.3->googletrans==4.0.0-rc1)\n",
            "  Downloading h11-0.9.0-py2.py3-none-any.whl.metadata (8.1 kB)\n",
            "Collecting h2==3.* (from httpcore==0.9.*->httpx==0.13.3->googletrans==4.0.0-rc1)\n",
            "  Downloading h2-3.2.0-py2.py3-none-any.whl.metadata (32 kB)\n",
            "Collecting hyperframe<6,>=5.2.0 (from h2==3.*->httpcore==0.9.*->httpx==0.13.3->googletrans==4.0.0-rc1)\n",
            "  Downloading hyperframe-5.2.0-py2.py3-none-any.whl.metadata (7.2 kB)\n",
            "Collecting hpack<4,>=3.0 (from h2==3.*->httpcore==0.9.*->httpx==0.13.3->googletrans==4.0.0-rc1)\n",
            "  Downloading hpack-3.0.0-py2.py3-none-any.whl.metadata (7.0 kB)\n",
            "Downloading httpx-0.13.3-py3-none-any.whl (55 kB)\n",
            "\u001b[2K   \u001b[90m━━━━━━━━━━━━━━━━━━━━━━━━━━━━━━━━━━━━━━━━\u001b[0m \u001b[32m55.1/55.1 kB\u001b[0m \u001b[31m4.3 MB/s\u001b[0m eta \u001b[36m0:00:00\u001b[0m\n",
            "\u001b[?25hDownloading chardet-3.0.4-py2.py3-none-any.whl (133 kB)\n",
            "\u001b[2K   \u001b[90m━━━━━━━━━━━━━━━━━━━━━━━━━━━━━━━━━━━━━━━━\u001b[0m \u001b[32m133.4/133.4 kB\u001b[0m \u001b[31m9.6 MB/s\u001b[0m eta \u001b[36m0:00:00\u001b[0m\n",
            "\u001b[?25hDownloading httpcore-0.9.1-py3-none-any.whl (42 kB)\n",
            "\u001b[2K   \u001b[90m━━━━━━━━━━━━━━━━━━━━━━━━━━━━━━━━━━━━━━━━\u001b[0m \u001b[32m42.6/42.6 kB\u001b[0m \u001b[31m2.9 MB/s\u001b[0m eta \u001b[36m0:00:00\u001b[0m\n",
            "\u001b[?25hDownloading idna-2.10-py2.py3-none-any.whl (58 kB)\n",
            "\u001b[2K   \u001b[90m━━━━━━━━━━━━━━━━━━━━━━━━━━━━━━━━━━━━━━━━\u001b[0m \u001b[32m58.8/58.8 kB\u001b[0m \u001b[31m4.4 MB/s\u001b[0m eta \u001b[36m0:00:00\u001b[0m\n",
            "\u001b[?25hDownloading h2-3.2.0-py2.py3-none-any.whl (65 kB)\n",
            "\u001b[2K   \u001b[90m━━━━━━━━━━━━━━━━━━━━━━━━━━━━━━━━━━━━━━━━\u001b[0m \u001b[32m65.0/65.0 kB\u001b[0m \u001b[31m5.6 MB/s\u001b[0m eta \u001b[36m0:00:00\u001b[0m\n",
            "\u001b[?25hDownloading rfc3986-1.5.0-py2.py3-none-any.whl (31 kB)\n",
            "Downloading hstspreload-2025.1.1-py3-none-any.whl (1.3 MB)\n",
            "\u001b[2K   \u001b[90m━━━━━━━━━━━━━━━━━━━━━━━━━━━━━━━━━━━━━━━━\u001b[0m \u001b[32m1.3/1.3 MB\u001b[0m \u001b[31m25.7 MB/s\u001b[0m eta \u001b[36m0:00:00\u001b[0m\n",
            "\u001b[?25hDownloading h11-0.9.0-py2.py3-none-any.whl (53 kB)\n",
            "\u001b[2K   \u001b[90m━━━━━━━━━━━━━━━━━━━━━━━━━━━━━━━━━━━━━━━━\u001b[0m \u001b[32m53.6/53.6 kB\u001b[0m \u001b[31m3.8 MB/s\u001b[0m eta \u001b[36m0:00:00\u001b[0m\n",
            "\u001b[?25hDownloading hpack-3.0.0-py2.py3-none-any.whl (38 kB)\n",
            "Downloading hyperframe-5.2.0-py2.py3-none-any.whl (12 kB)\n",
            "Building wheels for collected packages: googletrans\n",
            "  Building wheel for googletrans (setup.py) ... \u001b[?25l\u001b[?25hdone\n",
            "  Created wheel for googletrans: filename=googletrans-4.0.0rc1-py3-none-any.whl size=17396 sha256=93cdfc8355acfad40a57be221691314184224ac7d1db62bab44359fcdf0931c2\n",
            "  Stored in directory: /root/.cache/pip/wheels/39/17/6f/66a045ea3d168826074691b4b787b8f324d3f646d755443fda\n",
            "Successfully built googletrans\n",
            "Installing collected packages: rfc3986, hyperframe, hpack, h11, chardet, idna, hstspreload, h2, httpcore, httpx, googletrans\n",
            "  Attempting uninstall: hyperframe\n",
            "    Found existing installation: hyperframe 6.1.0\n",
            "    Uninstalling hyperframe-6.1.0:\n",
            "      Successfully uninstalled hyperframe-6.1.0\n",
            "  Attempting uninstall: hpack\n",
            "    Found existing installation: hpack 4.1.0\n",
            "    Uninstalling hpack-4.1.0:\n",
            "      Successfully uninstalled hpack-4.1.0\n",
            "  Attempting uninstall: h11\n",
            "    Found existing installation: h11 0.14.0\n",
            "    Uninstalling h11-0.14.0:\n",
            "      Successfully uninstalled h11-0.14.0\n",
            "  Attempting uninstall: chardet\n",
            "    Found existing installation: chardet 5.2.0\n",
            "    Uninstalling chardet-5.2.0:\n",
            "      Successfully uninstalled chardet-5.2.0\n",
            "  Attempting uninstall: idna\n",
            "    Found existing installation: idna 3.10\n",
            "    Uninstalling idna-3.10:\n",
            "      Successfully uninstalled idna-3.10\n",
            "  Attempting uninstall: h2\n",
            "    Found existing installation: h2 4.2.0\n",
            "    Uninstalling h2-4.2.0:\n",
            "      Successfully uninstalled h2-4.2.0\n",
            "  Attempting uninstall: httpcore\n",
            "    Found existing installation: httpcore 1.0.7\n",
            "    Uninstalling httpcore-1.0.7:\n",
            "      Successfully uninstalled httpcore-1.0.7\n",
            "  Attempting uninstall: httpx\n",
            "    Found existing installation: httpx 0.28.1\n",
            "    Uninstalling httpx-0.28.1:\n",
            "      Successfully uninstalled httpx-0.28.1\n",
            "\u001b[31mERROR: pip's dependency resolver does not currently take into account all the packages that are installed. This behaviour is the source of the following dependency conflicts.\n",
            "langsmith 0.3.24 requires httpx<1,>=0.23.0, but you have httpx 0.13.3 which is incompatible.\n",
            "google-genai 1.9.0 requires httpx<1.0.0,>=0.28.1, but you have httpx 0.13.3 which is incompatible.\n",
            "openai 1.70.0 requires httpx<1,>=0.23.0, but you have httpx 0.13.3 which is incompatible.\u001b[0m\u001b[31m\n",
            "\u001b[0mSuccessfully installed chardet-3.0.4 googletrans-4.0.0rc1 h11-0.9.0 h2-3.2.0 hpack-3.0.0 hstspreload-2025.1.1 httpcore-0.9.1 httpx-0.13.3 hyperframe-5.2.0 idna-2.10 rfc3986-1.5.0\n"
          ]
        }
      ]
    },
    {
      "cell_type": "code",
      "source": [
        "s"
      ],
      "metadata": {
        "id": "YgU_r6O2BUJY"
      },
      "execution_count": null,
      "outputs": []
    },
    {
      "cell_type": "code",
      "source": [
        "from googletrans import Translator\n",
        "\n",
        "# Initialize the translator\n",
        "translator = Translator()\n",
        "\n",
        "# Function to translate text\n",
        "def translate_text(text, target_language):\n",
        "    translation = translator.translate(text, dest=target_language)\n",
        "    return translation.text\n",
        "\n",
        "# Input from the user\n",
        "source_text = input(\"Enter the text you want to translate: \")\n",
        "target_language = input(\"Enter the target language code (e.g., 'en' for English, 'fr' for French, 'es' for Spanish, 'ta' for tamil): \")\n",
        "\n",
        "# Translate the text\n",
        "translated_text = translate_text(source_text, target_language)\n",
        "\n",
        "# Output the translation\n",
        "print(f\"Translated text: {translated_text}\")\n"
      ],
      "metadata": {
        "id": "1v0ibi6bAoHn",
        "colab": {
          "base_uri": "https://localhost:8080/",
          "height": 383
        },
        "outputId": "1806e796-c988-450e-9f8b-d632f789e1f6"
      },
      "execution_count": 1,
      "outputs": [
        {
          "output_type": "error",
          "ename": "ModuleNotFoundError",
          "evalue": "No module named 'googletrans'",
          "traceback": [
            "\u001b[0;31m---------------------------------------------------------------------------\u001b[0m",
            "\u001b[0;31mModuleNotFoundError\u001b[0m                       Traceback (most recent call last)",
            "\u001b[0;32m<ipython-input-1-fa1a6acd3e6b>\u001b[0m in \u001b[0;36m<cell line: 0>\u001b[0;34m()\u001b[0m\n\u001b[0;32m----> 1\u001b[0;31m \u001b[0;32mfrom\u001b[0m \u001b[0mgoogletrans\u001b[0m \u001b[0;32mimport\u001b[0m \u001b[0mTranslator\u001b[0m\u001b[0;34m\u001b[0m\u001b[0;34m\u001b[0m\u001b[0m\n\u001b[0m\u001b[1;32m      2\u001b[0m \u001b[0;34m\u001b[0m\u001b[0m\n\u001b[1;32m      3\u001b[0m \u001b[0;31m# Initialize the translator\u001b[0m\u001b[0;34m\u001b[0m\u001b[0;34m\u001b[0m\u001b[0m\n\u001b[1;32m      4\u001b[0m \u001b[0mtranslator\u001b[0m \u001b[0;34m=\u001b[0m \u001b[0mTranslator\u001b[0m\u001b[0;34m(\u001b[0m\u001b[0;34m)\u001b[0m\u001b[0;34m\u001b[0m\u001b[0;34m\u001b[0m\u001b[0m\n\u001b[1;32m      5\u001b[0m \u001b[0;34m\u001b[0m\u001b[0m\n",
            "\u001b[0;31mModuleNotFoundError\u001b[0m: No module named 'googletrans'",
            "",
            "\u001b[0;31m---------------------------------------------------------------------------\u001b[0;32m\nNOTE: If your import is failing due to a missing package, you can\nmanually install dependencies using either !pip or !apt.\n\nTo view examples of installing some common dependencies, click the\n\"Open Examples\" button below.\n\u001b[0;31m---------------------------------------------------------------------------\u001b[0m\n"
          ],
          "errorDetails": {
            "actions": [
              {
                "action": "open_url",
                "actionText": "Open Examples",
                "url": "/notebooks/snippets/importing_libraries.ipynb"
              }
            ]
          }
        }
      ]
    },
    {
      "cell_type": "code",
      "source": [
        "pip install googletrans==4.0.0-rc1\n"
      ],
      "metadata": {
        "id": "mbN10EIlA9DO",
        "colab": {
          "base_uri": "https://localhost:8080/"
        },
        "outputId": "ca3eec80-7cee-4c57-e08f-8ee099ad31fe"
      },
      "execution_count": 4,
      "outputs": [
        {
          "output_type": "stream",
          "name": "stdout",
          "text": [
            "Requirement already satisfied: googletrans==4.0.0-rc1 in /usr/local/lib/python3.11/dist-packages (4.0.0rc1)\n",
            "Requirement already satisfied: httpx==0.13.3 in /usr/local/lib/python3.11/dist-packages (from googletrans==4.0.0-rc1) (0.13.3)\n",
            "Requirement already satisfied: certifi in /usr/local/lib/python3.11/dist-packages (from httpx==0.13.3->googletrans==4.0.0-rc1) (2025.1.31)\n",
            "Requirement already satisfied: hstspreload in /usr/local/lib/python3.11/dist-packages (from httpx==0.13.3->googletrans==4.0.0-rc1) (2025.1.1)\n",
            "Requirement already satisfied: sniffio in /usr/local/lib/python3.11/dist-packages (from httpx==0.13.3->googletrans==4.0.0-rc1) (1.3.1)\n",
            "Requirement already satisfied: chardet==3.* in /usr/local/lib/python3.11/dist-packages (from httpx==0.13.3->googletrans==4.0.0-rc1) (3.0.4)\n",
            "Requirement already satisfied: idna==2.* in /usr/local/lib/python3.11/dist-packages (from httpx==0.13.3->googletrans==4.0.0-rc1) (2.10)\n",
            "Requirement already satisfied: rfc3986<2,>=1.3 in /usr/local/lib/python3.11/dist-packages (from httpx==0.13.3->googletrans==4.0.0-rc1) (1.5.0)\n",
            "Requirement already satisfied: httpcore==0.9.* in /usr/local/lib/python3.11/dist-packages (from httpx==0.13.3->googletrans==4.0.0-rc1) (0.9.1)\n",
            "Requirement already satisfied: h11<0.10,>=0.8 in /usr/local/lib/python3.11/dist-packages (from httpcore==0.9.*->httpx==0.13.3->googletrans==4.0.0-rc1) (0.9.0)\n",
            "Requirement already satisfied: h2==3.* in /usr/local/lib/python3.11/dist-packages (from httpcore==0.9.*->httpx==0.13.3->googletrans==4.0.0-rc1) (3.2.0)\n",
            "Requirement already satisfied: hyperframe<6,>=5.2.0 in /usr/local/lib/python3.11/dist-packages (from h2==3.*->httpcore==0.9.*->httpx==0.13.3->googletrans==4.0.0-rc1) (5.2.0)\n",
            "Requirement already satisfied: hpack<4,>=3.0 in /usr/local/lib/python3.11/dist-packages (from h2==3.*->httpcore==0.9.*->httpx==0.13.3->googletrans==4.0.0-rc1) (3.0.0)\n"
          ]
        }
      ]
    },
    {
      "cell_type": "code",
      "source": [
        "from googletrans import Translator\n",
        "\n",
        "# Initialize the translator\n",
        "translator = Translator()\n",
        "\n",
        "# Function to translate text\n",
        "def translate_text(text, target_language):\n",
        "    translation = translator.translate(text, dest=target_language)\n",
        "    return translation.text\n",
        "\n",
        "# Input from the user\n",
        "source_text = input(\"Enter the text you want to translate: \")\n",
        "target_language = input(\"Enter the target language code (e.g., 'en' for English, 'fr' for French, 'es' for Spanish, 'ta' for tamil): \")\n",
        "\n",
        "# Translate the text\n",
        "translated_text = translate_text(source_text, target_language)\n",
        "\n",
        "# Output the translation\n",
        "print(f\"Translated text: {translated_text}\")\n"
      ],
      "metadata": {
        "colab": {
          "base_uri": "https://localhost:8080/",
          "height": 383
        },
        "id": "4PuTLJaZEDxo",
        "outputId": "2c575723-e691-4e24-99c0-1277d64b8f9f"
      },
      "execution_count": 1,
      "outputs": [
        {
          "output_type": "error",
          "ename": "ModuleNotFoundError",
          "evalue": "No module named 'googletrans'",
          "traceback": [
            "\u001b[0;31m---------------------------------------------------------------------------\u001b[0m",
            "\u001b[0;31mModuleNotFoundError\u001b[0m                       Traceback (most recent call last)",
            "\u001b[0;32m<ipython-input-1-fa1a6acd3e6b>\u001b[0m in \u001b[0;36m<cell line: 0>\u001b[0;34m()\u001b[0m\n\u001b[0;32m----> 1\u001b[0;31m \u001b[0;32mfrom\u001b[0m \u001b[0mgoogletrans\u001b[0m \u001b[0;32mimport\u001b[0m \u001b[0mTranslator\u001b[0m\u001b[0;34m\u001b[0m\u001b[0;34m\u001b[0m\u001b[0m\n\u001b[0m\u001b[1;32m      2\u001b[0m \u001b[0;34m\u001b[0m\u001b[0m\n\u001b[1;32m      3\u001b[0m \u001b[0;31m# Initialize the translator\u001b[0m\u001b[0;34m\u001b[0m\u001b[0;34m\u001b[0m\u001b[0m\n\u001b[1;32m      4\u001b[0m \u001b[0mtranslator\u001b[0m \u001b[0;34m=\u001b[0m \u001b[0mTranslator\u001b[0m\u001b[0;34m(\u001b[0m\u001b[0;34m)\u001b[0m\u001b[0;34m\u001b[0m\u001b[0;34m\u001b[0m\u001b[0m\n\u001b[1;32m      5\u001b[0m \u001b[0;34m\u001b[0m\u001b[0m\n",
            "\u001b[0;31mModuleNotFoundError\u001b[0m: No module named 'googletrans'",
            "",
            "\u001b[0;31m---------------------------------------------------------------------------\u001b[0;32m\nNOTE: If your import is failing due to a missing package, you can\nmanually install dependencies using either !pip or !apt.\n\nTo view examples of installing some common dependencies, click the\n\"Open Examples\" button below.\n\u001b[0;31m---------------------------------------------------------------------------\u001b[0m\n"
          ],
          "errorDetails": {
            "actions": [
              {
                "action": "open_url",
                "actionText": "Open Examples",
                "url": "/notebooks/snippets/importing_libraries.ipynb"
              }
            ]
          }
        }
      ]
    }
  ]
}